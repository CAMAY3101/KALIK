{
 "cells": [
  {
   "cell_type": "code",
   "execution_count": 33,
   "metadata": {},
   "outputs": [],
   "source": [
    "import torch\n",
    "import torch.nn as nn\n",
    "import torch.nn.functional as F\n",
    "import pickle as pkl\n",
    "import numpy as np\n",
    "import pandas as pd\n",
    "import matplotlib.pyplot as plt\n",
    "from tqdm import tqdm"
   ]
  },
  {
   "cell_type": "code",
   "execution_count": 34,
   "metadata": {},
   "outputs": [],
   "source": [
    "class SentientAnalizer(nn.Module):\n",
    "    def __init__(self, input_size, hidden_size, output_size, vocab_size, embedding_dim):\n",
    "        super(SentientAnalizer, self).__init__()\n",
    "        \"\"\"\n",
    "        [Vocab_size -> Embedding_size]\n",
    "        input_size: [Seq, Batch, Inputs]\n",
    "        \"\"\"\n",
    "        # input_size == 1\n",
    "        self.input_size = input_size\n",
    "        self.hidden_size = hidden_size\n",
    "        self.output_size = output_size\n",
    "        self.vocab_size = vocab_size\n",
    "        self.embedding_dim = embedding_dim\n",
    "\n",
    "        self.Vocab_Embedding = nn.Embedding(self.vocab_size, self.embedding_dim)\n",
    "        self.LSTM = nn.LSTM(self.embedding_dim, self.hidden_size,num_layers=2, batch_first=True)\n",
    "        self.Linear1 = nn.Linear(self.hidden_size, self.hidden_size)\n",
    "        self.Linear2 = nn.Linear(self.hidden_size, self.output_size)\n",
    "\n",
    "\n",
    "    def forward(self,x, hidden):\n",
    "        emb = self.Vocab_Embedding(x).view(x.shape[0],x.shape[1],-1)\n",
    "        #print (emb.shape)\n",
    "        #print (hidden[0].shape)\n",
    "        out, hidden = self.LSTM(emb, hidden)\n",
    "        out = self.Linear1(out)\n",
    "        out = torch.selu(out)\n",
    "        out = self.Linear2(out)\n",
    "        return out, hidden\n",
    "\n",
    "    def init_hidden(self, batch_size):\n",
    "        return (torch.zeros(2, batch_size, self.hidden_size),\n",
    "                torch.zeros(2, batch_size, self.hidden_size))"
   ]
  },
  {
   "cell_type": "code",
   "execution_count": 35,
   "metadata": {},
   "outputs": [],
   "source": [
    "class StockPredictor(nn.Module):\n",
    "\n",
    "    def __init__(self, input_size_stock,input_size_sentiment, hidden_size, num_layers, max_length):\n",
    "        super(StockPredictor, self).__init__()\n",
    "        \"\"\"\n",
    "        [Vocab_size -> Embedding_size]\n",
    "        input_size: [Seq, Batch, Inputs]\n",
    "        \"\"\"\n",
    "        # input_size == 1\n",
    "        self.input_size_stock = input_size_stock\n",
    "        self.input_size_sentiment = input_size_sentiment\n",
    "        self.hidden_size = hidden_size\n",
    "        self.num_layers = num_layers\n",
    "        self.attn_hidd = nn.Linear(self.input_size_stock, max_length)\n",
    "        self.attn_out = nn.Linear(self.hidden_size*2, self.hidden_size)\n",
    "        self.CombinedLayerSS = nn.Linear(self.input_size_stock+self.input_size_sentiment, self.hidden_size)\n",
    "        self.LSTM = nn.LSTM(self.input_size_sentiment+self.input_size_stock, self.hidden_size,num_layers=num_layers, batch_first=False)\n",
    "        self.Linear1 = nn.Linear(self.hidden_size, self.hidden_size)\n",
    "        #self.dropout = nn.Dropout(0.1)\n",
    "        self.Linear2 = nn.Linear(self.hidden_size, self.input_size_stock)\n",
    "\n",
    "\n",
    "    def forward(self,x, hidden, stock_news):\n",
    "        #print (\"hidden:\",hidden[0][0].shape)\n",
    "        attn_wights = F.softmax(self.attn_hidd(x), dim=1)\n",
    "        #print (attn_wights.shape, stock_news.shape)\n",
    "        context = torch.bmm(attn_wights, stock_news)\n",
    "        #context = torch.einsum('ij,ijk->ik', attn_wights, stock_news)\n",
    "        #print (context.shape, x.shape)\n",
    "        x_SS = torch.cat((x,context),dim=2)\n",
    "        out, hidden = self.LSTM(x_SS, hidden)\n",
    "        out = self.Linear1(out)\n",
    "        out = torch.selu(out)\n",
    "        #out = self.dropout(out)\n",
    "        out = self.Linear2(out)\n",
    "        return out, hidden\n",
    "\n",
    "    def init_hidden(self, batch_size):\n",
    "        return (torch.zeros(self.num_layers, batch_size, self.hidden_size),\n",
    "                torch.zeros(self.num_layers, batch_size, self.hidden_size))"
   ]
  },
  {
   "cell_type": "code",
   "execution_count": 36,
   "metadata": {},
   "outputs": [],
   "source": [
    "news_1 = pd.read_csv('../data/Preprocess/final_data/Crypto_Currency_News.csv') # news_np[0]\n",
    "news_2 = pd.read_csv('../data/Preprocess/final_data/CryptoCurrencies.csv') # news_np[1]\n",
    "news_3 = pd.read_csv('../data/Preprocess/final_data/CryptoCurrency.csv') # news_np[2]\n",
    "news_4 = pd.read_csv('../data/Preprocess/final_data/Cryptomarkets.csv') # news_np[3]\n",
    "news_5 = pd.read_csv('../data/Preprocess/final_data/eth.csv') # news_np[4]\n",
    "news_6 = pd.read_csv('../data/Preprocess/final_data/ethfinance.csv') # news_np[5]\n",
    "news_7 = pd.read_csv('../data/Preprocess/final_data/ethtrader.csv') # news_np[6]\n",
    "\n",
    "stocks_std = pd.read_csv('../data/Preprocess/final_data/finance_std.csv')\n",
    "\n",
    "\n",
    "news_dfs = [news_1, news_2, news_3, news_4, news_5, news_6, news_7]\n",
    "col_names = ['adj_close','volume','num_trades_USDT','close_BTC','num_trades_BTC','close_BNB','num_trades_BNB','close_XRP','num_trades_XRP']\n",
    "\n",
    "# # import scaler\n",
    "# with open('../data/Preprocess/scaler.pkl', 'rb') as f:\n",
    "#     scaler = pkl.load(f)\n",
    "'''\n",
    "example of cell in news_1:\n",
    "'[1,2,3,4,5,6,7,8,9,10,11,12,13,14,15]'\n",
    "is saved as a string\n",
    "'''\n",
    "# change type\n",
    "import ast\n",
    "for df in news_dfs:\n",
    "    for j in range(1,11):        \n",
    "        df['tok_text_'+str(j)] = np.array(df['tok_text_'+str(j)].apply(lambda x: ast.literal_eval (x)))"
   ]
  },
  {
   "cell_type": "code",
   "execution_count": 37,
   "metadata": {},
   "outputs": [
    {
     "name": "stdout",
     "output_type": "stream",
     "text": [
      "(1096, 10, 15)\n",
      "(1096, 10, 15)\n",
      "(1096, 10, 15)\n",
      "(1096, 10, 15)\n",
      "(1096, 10, 15)\n",
      "(1096, 10, 15)\n",
      "(1096, 10, 15)\n",
      "(1096, 9)\n"
     ]
    }
   ],
   "source": [
    "# convert all dataframes to numpy\n",
    "# news_1_np = news_1.to_numpy()\n",
    "news_np = []\n",
    "for df in news_dfs:\n",
    "    news_np.append(df.to_numpy())\n",
    "\n",
    "stocks_norm_np = stocks_std.to_numpy()\n",
    "\n",
    "# delete 1st column\n",
    "# news_1_np = news_1_np[:,1:]\n",
    "for i in range(len(news_np)):\n",
    "    news_np[i] = np.delete(news_np[i], 0, 1)\n",
    "stocks_norm_np = stocks_norm_np[:,1:]\n",
    "\n",
    "# reshape from (n,10) lists to (n,10,15) numbers\n",
    "for k in range(len(news_np)):\n",
    "    news_np[k] = np.array([np.array([np.array(news_np[k][i][j]) for j in range(10)]) for i in range(news_np[k].shape[0])])\n",
    "\n",
    "# print\n",
    "for i in range(len(news_np)):\n",
    "    print(news_np[i].shape)\n",
    "print (stocks_norm_np.shape)\n",
    "# print first row, already checked it is the first row from the CSVs\n",
    "# print (news_np[0][0])\n",
    "# print(stocks_norm_np[0])"
   ]
  },
  {
   "cell_type": "code",
   "execution_count": 38,
   "metadata": {},
   "outputs": [
    {
     "name": "stdout",
     "output_type": "stream",
     "text": [
      "torch.Size([1088, 9]) torch.Size([1089, 10, 15]) torch.Size([1088, 9])\n"
     ]
    }
   ],
   "source": [
    "# shape dataset to pytorch dataset class    \n",
    "class Dataset (torch.utils.data.Dataset):\n",
    "    def __init__(self, data_stock, notice, target):\n",
    "        self.data = data_stock.unsqueeze(1)\n",
    "        self.notice = notice.unsqueeze(3)\n",
    "        self.target = target.unsqueeze(1)\n",
    "        # Standardize data\n",
    "        self.data = (self.data - self.data.mean()) / self.data.std()\n",
    "        self.target = (self.target - self.target.mean()) / self.target.std()\n",
    "    def __len__(self):\n",
    "        return len(self.data)\n",
    "\n",
    "    def __getitem__(self, idx):\n",
    "        return self.data[idx], self.notice[idx], self.target[idx]\n",
    "\n",
    "# split dataset into train and test\n",
    "# using news_1 and stocks_norm, use all except one week, we will predict this week in testing\n",
    "# data_stock = torch.Tensor(stocks_norm_np[:,:]).float()\n",
    "data_stock = torch.Tensor(stocks_norm_np[:-7,:].astype(np.float32))\n",
    "test_stock = data_stock[-1] # we will start forcast from the real value of the last day of the train set\n",
    "test_stock = test_stock.unsqueeze(0).unsqueeze(0)\n",
    "# data_news = torch.Tensor(news_np[0]).long() \n",
    "data_news = torch.Tensor(news_np[0][:-7,:,:]).long() # news_np[0] is news_1 (Crypto_Currency_News.csv), change to others as needed\n",
    "target = data_stock[1:,:]\n",
    "data_stock = data_stock[:-1,:]\n",
    "print (data_stock.shape, data_news.shape, target.shape)\n",
    "\n",
    "# create dataset\n",
    "dataset = Dataset(data_stock, data_news, target)"
   ]
  },
  {
   "cell_type": "code",
   "execution_count": 39,
   "metadata": {},
   "outputs": [],
   "source": [
    "# device = torch.device(\"cuda\" if torch.cuda.is_available() else \"cpu\")"
   ]
  },
  {
   "cell_type": "code",
   "execution_count": 40,
   "metadata": {},
   "outputs": [],
   "source": [
    "Senti = SentientAnalizer(1, 128, 256, 50000, 128) # .to(device) # 50000 is the size of the vocabulary, our dictionary has 49783 words\n",
    "Stock = StockPredictor(9,256,256,4,10) # .to(device) # 9 is the number of variables in the stock"
   ]
  },
  {
   "cell_type": "code",
   "execution_count": 41,
   "metadata": {},
   "outputs": [],
   "source": [
    "# dataloader\n",
    "batch_size = 256\n",
    "train_loader = torch.utils.data.DataLoader(dataset, batch_size=batch_size, shuffle=False)"
   ]
  },
  {
   "cell_type": "code",
   "execution_count": 42,
   "metadata": {},
   "outputs": [],
   "source": [
    "# optimizer\n",
    "optimizer = torch.optim.Adam(list(Senti.parameters())+list(Stock.parameters()), lr=0.001) # lr=0.001\n",
    "# loss function\n",
    "criterion = nn.MSELoss()\n",
    "# clip gradient\n",
    "clip = .5"
   ]
  },
  {
   "cell_type": "code",
   "execution_count": 43,
   "metadata": {},
   "outputs": [
    {
     "name": "stderr",
     "output_type": "stream",
     "text": [
      "Epoch: 0, Loss: 0.9537776947021485: 100%|██████████| 5/5 [00:14<00:00,  2.98s/it] \n",
      "Epoch: 1, Loss: 0.940336036682129: 100%|██████████| 5/5 [00:15<00:00,  3.15s/it]  \n",
      "Epoch: 2, Loss: 0.9258516311645508: 100%|██████████| 5/5 [00:15<00:00,  3.10s/it] \n",
      "Epoch: 3, Loss: 0.8823005676269531: 100%|██████████| 5/5 [00:15<00:00,  3.10s/it] \n"
     ]
    },
    {
     "name": "stdout",
     "output_type": "stream",
     "text": [
      "Epoch: 4/50... Loss: 0.882301...\n"
     ]
    },
    {
     "name": "stderr",
     "output_type": "stream",
     "text": [
      "Epoch: 4, Loss: 0.980045223236084: 100%|██████████| 5/5 [00:14<00:00,  2.94s/it] \n",
      "Epoch: 5, Loss: 0.6671507835388184: 100%|██████████| 5/5 [00:14<00:00,  2.93s/it] \n",
      "Epoch: 6, Loss: 1.2381738662719726: 100%|██████████| 5/5 [00:15<00:00,  3.01s/it]  \n",
      "Epoch: 7, Loss: 1.1042984008789063: 100%|██████████| 5/5 [00:14<00:00,  2.96s/it] \n"
     ]
    },
    {
     "name": "stdout",
     "output_type": "stream",
     "text": [
      "Epoch: 8/50... Loss: 1.104298...\n"
     ]
    },
    {
     "name": "stderr",
     "output_type": "stream",
     "text": [
      "Epoch: 8, Loss: 0.8193103790283203: 100%|██████████| 5/5 [00:17<00:00,  3.49s/it] \n",
      "Epoch: 9, Loss: 0.7920963287353515: 100%|██████████| 5/5 [00:18<00:00,  3.64s/it] \n",
      "Epoch: 10, Loss: 0.8012919425964355: 100%|██████████| 5/5 [00:17<00:00,  3.47s/it] \n",
      "Epoch: 11, Loss: 0.7436850547790528: 100%|██████████| 5/5 [00:18<00:00,  3.66s/it] \n"
     ]
    },
    {
     "name": "stdout",
     "output_type": "stream",
     "text": [
      "Epoch: 12/50... Loss: 0.743685...\n"
     ]
    },
    {
     "name": "stderr",
     "output_type": "stream",
     "text": [
      "Epoch: 12, Loss: 0.6802711009979248: 100%|██████████| 5/5 [00:17<00:00,  3.44s/it]\n",
      "Epoch: 13, Loss: 0.8232357978820801: 100%|██████████| 5/5 [00:19<00:00,  3.95s/it] \n",
      "Epoch: 14, Loss: 0.7624067783355712: 100%|██████████| 5/5 [00:17<00:00,  3.51s/it] \n",
      "Epoch: 15, Loss: 0.7979344367980957: 100%|██████████| 5/5 [00:17<00:00,  3.47s/it] \n"
     ]
    },
    {
     "name": "stdout",
     "output_type": "stream",
     "text": [
      "Epoch: 16/50... Loss: 0.797934...\n"
     ]
    },
    {
     "name": "stderr",
     "output_type": "stream",
     "text": [
      "Epoch: 16, Loss: 0.7980140209197998: 100%|██████████| 5/5 [00:12<00:00,  2.53s/it] \n",
      "Epoch: 17, Loss: 0.5977061271667481: 100%|██████████| 5/5 [00:12<00:00,  2.58s/it] \n",
      "Epoch: 18, Loss: 0.5713352680206298: 100%|██████████| 5/5 [00:13<00:00,  2.60s/it] \n",
      "Epoch: 19, Loss: 0.5361372947692871: 100%|██████████| 5/5 [00:14<00:00,  2.96s/it]  \n"
     ]
    },
    {
     "name": "stdout",
     "output_type": "stream",
     "text": [
      "Epoch: 20/50... Loss: 0.536137...\n"
     ]
    },
    {
     "name": "stderr",
     "output_type": "stream",
     "text": [
      "Epoch: 20, Loss: 0.515937328338623: 100%|██████████| 5/5 [00:14<00:00,  2.94s/it]   \n",
      "Epoch: 21, Loss: 0.4997399806976318: 100%|██████████| 5/5 [00:13<00:00,  2.78s/it]  \n",
      "Epoch: 22, Loss: 0.49210352897644044: 100%|██████████| 5/5 [00:13<00:00,  2.76s/it]\n",
      "Epoch: 23, Loss: 0.5225425243377686: 100%|██████████| 5/5 [00:13<00:00,  2.66s/it] \n"
     ]
    },
    {
     "name": "stdout",
     "output_type": "stream",
     "text": [
      "Epoch: 24/50... Loss: 0.522543...\n"
     ]
    },
    {
     "name": "stderr",
     "output_type": "stream",
     "text": [
      "Epoch: 24, Loss: 0.46053228378295896: 100%|██████████| 5/5 [00:13<00:00,  2.60s/it]\n",
      "Epoch: 25, Loss: 0.8328819274902344: 100%|██████████| 5/5 [00:12<00:00,  2.60s/it] \n",
      "Epoch: 26, Loss: 0.7803617954254151: 100%|██████████| 5/5 [00:13<00:00,  2.61s/it] \n",
      "Epoch: 27, Loss: 0.7853829383850097: 100%|██████████| 5/5 [00:19<00:00,  3.96s/it] \n"
     ]
    },
    {
     "name": "stdout",
     "output_type": "stream",
     "text": [
      "Epoch: 28/50... Loss: 0.785383...\n"
     ]
    },
    {
     "name": "stderr",
     "output_type": "stream",
     "text": [
      "Epoch: 28, Loss: 0.4907093524932861: 100%|██████████| 5/5 [00:13<00:00,  2.73s/it] \n",
      "Epoch: 29, Loss: 0.5791031837463378: 100%|██████████| 5/5 [00:13<00:00,  2.63s/it] \n",
      "Epoch: 30, Loss: 0.6299485206604004: 100%|██████████| 5/5 [00:13<00:00,  2.65s/it] \n",
      "Epoch: 31, Loss: 0.4838459014892578: 100%|██████████| 5/5 [00:13<00:00,  2.64s/it] \n"
     ]
    },
    {
     "name": "stdout",
     "output_type": "stream",
     "text": [
      "Epoch: 32/50... Loss: 0.483846...\n"
     ]
    },
    {
     "name": "stderr",
     "output_type": "stream",
     "text": [
      "Epoch: 32, Loss: 0.4670544147491455: 100%|██████████| 5/5 [00:13<00:00,  2.70s/it] \n",
      "Epoch: 33, Loss: 0.5290953636169433: 100%|██████████| 5/5 [00:13<00:00,  2.68s/it] \n",
      "Epoch: 34, Loss: 0.44105167388916017: 100%|██████████| 5/5 [00:13<00:00,  2.64s/it] \n",
      "Epoch: 35, Loss: 0.4568295955657959: 100%|██████████| 5/5 [00:13<00:00,  2.75s/it] \n"
     ]
    },
    {
     "name": "stdout",
     "output_type": "stream",
     "text": [
      "Epoch: 36/50... Loss: 0.456830...\n"
     ]
    },
    {
     "name": "stderr",
     "output_type": "stream",
     "text": [
      "Epoch: 36, Loss: 0.5201856613159179: 100%|██████████| 5/5 [00:13<00:00,  2.67s/it] \n",
      "Epoch: 37, Loss: 0.528309440612793: 100%|██████████| 5/5 [00:13<00:00,  2.63s/it]  \n",
      "Epoch: 38, Loss: 0.48062710762023925: 100%|██████████| 5/5 [00:13<00:00,  2.67s/it]\n",
      "Epoch: 39, Loss: 0.4468088150024414: 100%|██████████| 5/5 [00:13<00:00,  2.63s/it] \n"
     ]
    },
    {
     "name": "stdout",
     "output_type": "stream",
     "text": [
      "Epoch: 40/50... Loss: 0.446809...\n"
     ]
    },
    {
     "name": "stderr",
     "output_type": "stream",
     "text": [
      "Epoch: 40, Loss: 0.49897046089172364: 100%|██████████| 5/5 [00:13<00:00,  2.63s/it]\n",
      "Epoch: 41, Loss: 0.5219304084777832: 100%|██████████| 5/5 [00:13<00:00,  2.63s/it] \n",
      "Epoch: 42, Loss: 0.5289335727691651: 100%|██████████| 5/5 [00:13<00:00,  2.69s/it]  \n",
      "Epoch: 43, Loss: 0.5085319519042969: 100%|██████████| 5/5 [00:13<00:00,  2.75s/it]  \n"
     ]
    },
    {
     "name": "stdout",
     "output_type": "stream",
     "text": [
      "Epoch: 44/50... Loss: 0.508532...\n"
     ]
    },
    {
     "name": "stderr",
     "output_type": "stream",
     "text": [
      "Epoch: 44, Loss: 0.4978628635406494: 100%|██████████| 5/5 [00:13<00:00,  2.60s/it] \n",
      "Epoch: 45, Loss: 0.47066469192504884: 100%|██████████| 5/5 [00:13<00:00,  2.68s/it] \n",
      "Epoch: 46, Loss: 0.44323158264160156: 100%|██████████| 5/5 [00:13<00:00,  2.71s/it]\n",
      "Epoch: 47, Loss: 0.44814586639404297: 100%|██████████| 5/5 [00:13<00:00,  2.67s/it]\n"
     ]
    },
    {
     "name": "stdout",
     "output_type": "stream",
     "text": [
      "Epoch: 48/50... Loss: 0.448146...\n"
     ]
    },
    {
     "name": "stderr",
     "output_type": "stream",
     "text": [
      "Epoch: 48, Loss: 0.47430596351623533: 100%|██████████| 5/5 [00:13<00:00,  2.66s/it]\n",
      "Epoch: 49, Loss: 0.43811583518981934: 100%|██████████| 5/5 [00:13<00:00,  2.66s/it]\n"
     ]
    }
   ],
   "source": [
    "# train\n",
    "\n",
    "future = 50\n",
    "for epoch in range(140):\n",
    "    \n",
    "    \n",
    "    #hidde_stock = (hidde_stock[0][:,:-future], hidde_stock[1][:,:-future])\n",
    "    tot_loss = 0\n",
    "    mean_loss = 0\n",
    "    Progressbar = tqdm(train_loader)\n",
    "    for i, (data_stock,data_news,target) in enumerate(Progressbar):\n",
    "        #print (data_stock.shape, data_news.shape, target.shape)\n",
    "        hidde_senti = Senti.init_hidden(10)\n",
    "        hidde_senti = (hidde_senti[0], hidde_senti[1]) # (hidde_senti[0].to(device), hidde_senti[1].to(device))\n",
    "        hidde_stock = Stock.init_hidden(batch_size=1)\n",
    "        hidde_stock = (hidde_stock[0], hidde_stock[1]) # (hidde_stock[0].to(device), hidde_stock[1].to(device))\n",
    "        data_stock = data_stock\n",
    "        data_news = data_news\n",
    "        target = target\n",
    "        senti_outputs = []\n",
    "        stock_outputs = []\n",
    "        for batch in data_news:\n",
    "            senti_output, hidden_senti = Senti(batch.squeeze(0), hidde_senti)\n",
    "            senti_outputs.append(senti_output[:,-1,:])\n",
    "        senti_outputs = torch.cat(senti_outputs, dim=0)    \n",
    "        senti_outputs = senti_outputs.reshape(len(data_stock),10,256)\n",
    "        #print (data_stock.shape)\n",
    "        #print (senti_outputs.shape)\n",
    "        #print (hidde_stock[0].shape)\n",
    "        #print (hidde_stock[1].shape)\n",
    "        data_stock = data_stock[:-future]\n",
    "        stock_output, hidde_stock = Stock(data_stock, hidde_stock, senti_outputs[:-future])\n",
    "        #print (\"output\",stock_output.shape)\n",
    "        output = stock_output[-1,:,:]\n",
    "        senti = senti_outputs[-future,:,:]\n",
    "        #print (output.shape)\n",
    "        #print (hidde_stock[0].shape)\n",
    "        for i in range(future):\n",
    "            #print (\"Sizes:\",output.shape, senti.shape, hidde_stock[0].shape)\n",
    "            output, hidde_stock = Stock(output.unsqueeze(0), hidde_stock, senti.unsqueeze(0))\n",
    "            stock_outputs.append(output)\n",
    "            output = output.squeeze(0)\n",
    "            #print (output.shape)\n",
    "        stock_outputs = torch.cat(stock_outputs, dim=0)\n",
    "        # cat stock_output and stock_outputs\n",
    "        stock_output = torch.cat((stock_output, stock_outputs), dim=0)\n",
    "        #print (stock_output.shape)\n",
    "        loss = criterion(stock_output, target)\n",
    "        mean_loss += loss\n",
    "        Progressbar.set_description(\"Epoch: {}, Loss: {}\".format(epoch, mean_loss.item()/len(train_loader)))\n",
    "    mean_loss = mean_loss/len(train_loader)\n",
    "    mean_loss = mean_loss #.cpu()\n",
    "    optimizer.zero_grad()\n",
    "    mean_loss.backward()\n",
    "    torch.nn.utils.clip_grad_norm_(list(Senti.parameters())+list(Stock.parameters()), clip)\n",
    "    optimizer.step()\n",
    "    if (epoch+1)%4 == 0:\n",
    "        print (\"Epoch: {}/{}...\".format(epoch+1, 50),\n",
    "               \"Loss: {:.6f}...\".format(mean_loss.item()))\n",
    "        "
   ]
  },
  {
   "cell_type": "code",
   "execution_count": 34,
   "metadata": {},
   "outputs": [],
   "source": [
    "# Save model\n",
    "torch.save(Senti.state_dict(), 'Sentib.pt')\n",
    "torch.save(Stock.state_dict(), 'Stockb.pt')"
   ]
  },
  {
   "cell_type": "code",
   "execution_count": 89,
   "metadata": {},
   "outputs": [
    {
     "data": {
      "text/plain": [
       "<All keys matched successfully>"
      ]
     },
     "execution_count": 89,
     "metadata": {},
     "output_type": "execute_result"
    }
   ],
   "source": [
    "# Load model\n",
    "Senti.load_state_dict(torch.load('saved_m_forecast/Senti3.pt', map_location=torch.device('cpu')))\n",
    "Stock.load_state_dict(torch.load('saved_m_forecast/Stock3.pt', map_location=torch.device('cpu')))"
   ]
  },
  {
   "cell_type": "code",
   "execution_count": 96,
   "metadata": {},
   "outputs": [
    {
     "name": "stdout",
     "output_type": "stream",
     "text": [
      "tamaño: torch.Size([64, 1, 9])\n",
      "torch.Size([64, 1, 9])\n",
      "torch.Size([64, 1, 9])\n"
     ]
    }
   ],
   "source": [
    "# test with forecast\n",
    "with torch.no_grad():\n",
    "    count  = 0\n",
    "    for batch in train_loader:\n",
    "        batch = batch\n",
    "        \n",
    "        if count == 4:\n",
    "            \n",
    "            print (\"tamaño:\",batch[0].shape)\n",
    "            break\n",
    "        count += 1\n",
    "\n",
    "    data_stock = batch[0] #.to(device)\n",
    "    data_news = batch[1] #.to(device)\n",
    "    target = batch[2] #.to(device)\n",
    "    hidde_senti = Senti.init_hidden(10)\n",
    "    hidde_senti = (hidde_senti[0], hidde_senti[1]) # (hidde_senti[0].to(device), hidde_senti[1].to(device))\n",
    "    hidde_stock = Stock.init_hidden(batch_size=1)\n",
    "    hidde_stock = (hidde_stock[0], hidde_stock[1]) # (hidde_stock[0].to(device), hidde_stock[1].to(device)) \n",
    "    senti_outputs = []\n",
    "    stock_outputs = []\n",
    "    for batch in data_news:\n",
    "        senti_output, hidden_senti = Senti(batch.squeeze(0), hidde_senti)\n",
    "        senti_outputs.append(senti_output[:,-1,:])\n",
    "    senti_outputs = torch.cat(senti_outputs, dim=0)\n",
    "    senti_outputs = senti_outputs.reshape(len(data_stock),10,256)\n",
    "    data_stock = data_stock[:-future]\n",
    "    stock_output, hidde_stock = Stock(data_stock, hidde_stock, senti_outputs[:-future])\n",
    "    output = stock_output[-1,:,:]\n",
    "    senti = senti_outputs[-future,:,:]\n",
    "    for i in range(future):\n",
    "        output, hidde_stock = Stock(output.unsqueeze(0), hidde_stock, senti.unsqueeze(0))\n",
    "        stock_outputs.append(output)\n",
    "        output = output.squeeze(0)\n",
    "    stock_outputs = torch.cat(stock_outputs, dim=0)\n",
    "    stock_output = torch.cat((stock_output, stock_outputs), dim=0)\n",
    "    print (stock_output.shape)\n",
    "    print (target.shape)\n"
   ]
  },
  {
   "cell_type": "code",
   "execution_count": 97,
   "metadata": {},
   "outputs": [
    {
     "data": {
      "image/png": "[encoded data removed]",
      "text/plain": [
       "<Figure size 640x480 with 1 Axes>"
      ]
     },
     "metadata": {},
     "output_type": "display_data"
    }
   ],
   "source": [
    "stock_output_np = np.array(stock_output.tolist())\n",
    "target_np = np.array(target.tolist())\n",
    "# plot the target vs the prediction\n",
    "plt.plot(stock_output_np[:,0,0], label=\"prediction\") \n",
    "plt.plot(target_np[:,0,0], label=\"target\") \n",
    "# add a vertical line to indicate the end of the training data\n",
    "plt.axvline(x=len(data_stock), color='k', linestyle='--')\n",
    "plt.legend()\n",
    "plt.show()"
   ]
  }
 ],
 "metadata": {
  "kernelspec": {
   "display_name": "Python 3.10.4 64-bit",
   "language": "python",
   "name": "python3"
  },
  "language_info": {
   "codemirror_mode": {
    "name": "ipython",
    "version": 3
   },
   "file_extension": ".py",
   "mimetype": "text/x-python",
   "name": "python",
   "nbconvert_exporter": "python",
   "pygments_lexer": "ipython3",
   "version": "3.10.4"
  },
  "orig_nbformat": 4,
  "vscode": {
   "interpreter": {
    "hash": "71124d1c67a53e10234d0517a0d95499fe806d0feef4c01c9260b743b98b34cd"
   }
  }
 },
 "nbformat": 4,
 "nbformat_minor": 2
}
